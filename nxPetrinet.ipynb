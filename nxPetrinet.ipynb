{
  "nbformat": 4,
  "nbformat_minor": 0,
  "metadata": {
    "colab": {
      "name": "nxPetrinet.ipynb",
      "provenance": [],
      "collapsed_sections": [],
      "authorship_tag": "ABX9TyPgDsurErE3lhSjtLAVIGnq",
      "include_colab_link": true
    },
    "kernelspec": {
      "name": "python3",
      "display_name": "Python 3"
    },
    "language_info": {
      "name": "python"
    }
  },
  "cells": [
    {
      "cell_type": "markdown",
      "metadata": {
        "id": "view-in-github",
        "colab_type": "text"
      },
      "source": [
        "<a href=\"https://colab.research.google.com/github/AlbertFlorinus/Petrinet/blob/dev/nxPetrinet.ipynb\" target=\"_parent\"><img src=\"https://colab.research.google.com/assets/colab-badge.svg\" alt=\"Open In Colab\"/></a>"
      ]
    },
    {
      "cell_type": "code",
      "metadata": {
        "id": "ceC-jP9pFVDU",
        "colab": {
          "base_uri": "https://localhost:8080/"
        },
        "outputId": "b4dad08a-903b-49e1-b138-94ee9d9c5fce"
      },
      "source": [
        "\n",
        "import networkx as nx\n",
        "import matplotlib.pyplot as plt\n",
        "from networkx.drawing.layout import bipartite_layout\n",
        "import random\n",
        "import os\n",
        "\n",
        "!git clone https://github.com/AlbertFlorinus/Petrinet/\n",
        "os.chdir('Petrinet')\n",
        "from nx_petri import Pnet, B, colab_plot_detail, simsims_ex"
      ],
      "execution_count": null,
      "outputs": [
        {
          "output_type": "stream",
          "name": "stdout",
          "text": [
            "fatal: destination path 'Petrinet' already exists and is not an empty directory.\n"
          ]
        }
      ]
    },
    {
      "cell_type": "code",
      "metadata": {
        "id": "-nQkraR669VX"
      },
      "source": [
        "Pnet.add_road(\"r1\", start_workers = 1)\n",
        "Pnet.add_road(\"r2\", start_workers = 1)\n",
        "Pnet.add_barn(\"b1\", start_food = 1)\n",
        "\n",
        "Pnet.add_farm(\"farm_1\")\n",
        "\n",
        "Pnet.create_edge(\"r1\", \"farm_1\")\n",
        "Pnet.create_edge(\"farm_1\", \"b1\")\n",
        "Pnet.create_edge(\"farm_1\", \"r2\")"
      ],
      "execution_count": null,
      "outputs": []
    },
    {
      "cell_type": "code",
      "metadata": {
        "id": "j4e47diwaeBz"
      },
      "source": [
        "def basic():\n",
        "    #a graph with only one transition.\n",
        "    \n",
        "    Pnet.add_road(\"r1\", start_workers=3)\n",
        "    Pnet.add_road(\"r2\", start_workers=3)\n",
        "    Pnet.add_storage(\"s1\", start_products=1)\n",
        "    Pnet.add_barn(\"l1\", start_food= 2)\n",
        "\n",
        "    Pnet.add_house(\"house_1\")\n",
        "    Pnet.create_edge(\"r1\", \"house_1\")\n",
        "    Pnet.create_edge(\"r2\", \"house_1\")\n",
        "    Pnet.create_edge(\"s1\", \"house_1\")\n",
        "    Pnet.create_edge(\"house_1\", \"r1\")"
      ],
      "execution_count": null,
      "outputs": []
    },
    {
      "cell_type": "code",
      "metadata": {
        "id": "lOu0v0ftpKdJ"
      },
      "source": [
        "#simsims_ex follows the graph layout provided here\n",
        "# https://bth.instructure.com/courses/3539/pages/simsims\n",
        "simsims_ex()"
      ],
      "execution_count": null,
      "outputs": []
    },
    {
      "cell_type": "code",
      "metadata": {
        "id": "Yr3NQVrNnNXl"
      },
      "source": [
        "def deterministic(order):\n",
        "\n",
        "    #helper code to determine whether to end the simulation\n",
        "    places = {n for n, d in B.nodes(data=True) if d[\"bipartite\"] == 0}\n",
        "\n",
        "    roads_places = {i for i in places if B.nodes(data = True)[i][\"color\"] == \"Road\"}\n",
        "    c0 = 0\n",
        "\n",
        "    for i in order:\n",
        "        c0 += 1\n",
        "        p0 = [len( B.nodes[i][\"holdings\"] ) for i in roads_places]\n",
        "        #if 0 in p0:\n",
        "        if all(v == 0 for v in p0):\n",
        "            #all(v == 0 for v in values)\n",
        "            print(p0)\n",
        "            print(B.nodes(data=True))\n",
        "            print(f\"simulation ended at {c0} iterations. \")\n",
        "            break\n",
        "\n",
        "        \n",
        "        B.nodes[i][\"trans\"][0].fire()\n"
      ],
      "execution_count": null,
      "outputs": []
    },
    {
      "cell_type": "code",
      "metadata": {
        "id": "NFH-BLfGOrJD"
      },
      "source": [
        "def stochastic_iteration(n):\n",
        "    #of n iterations\n",
        "    orig_state = list(f\"{n}: {len(d['holdings'])} \" for n, d in B.nodes(data=True) if d[\"bipartite\"] == 0)\n",
        "    #takes only the transition nodes, ie bipartite = 1\n",
        "    transit_lst = [t for t in B.nodes if B.nodes[t][\"bipartite\"] == 1]\n",
        "    sequence = [random.choice(transit_lst) for i in range(n)]\n",
        "    #calls the \"deterministic funtion, whats random here is merely the sequence to simulate\"\n",
        "    deterministic(sequence)\n",
        "\n",
        "    new_state = list(f\"{n}: {len(d['holdings'])} \" for n, d in B.nodes(data=True) if d[\"bipartite\"] == 0)\n",
        "    print(\"\\n \\n --------\")\n",
        "    print(f\"name: amount of tokens\")\n",
        "\n",
        "    for i, j in zip(orig_state, new_state):\n",
        "        print(i, \"-->\", j)"
      ],
      "execution_count": null,
      "outputs": []
    },
    {
      "cell_type": "code",
      "metadata": {
        "colab": {
          "base_uri": "https://localhost:8080/"
        },
        "id": "B6ii6dJCna36",
        "outputId": "d5098016-fc38-438a-96a0-df791e51e186"
      },
      "source": [
        "stochastic_iteration(4)"
      ],
      "execution_count": null,
      "outputs": [
        {
          "output_type": "stream",
          "name": "stdout",
          "text": [
            "diner_2 fired\n",
            "factory_2 fired\n",
            "farm_1 fired\n",
            "farm_2 fired\n",
            "\n",
            " \n",
            " --------\n",
            "name: amount of tokens\n",
            "r1: 3  --> r1: 4 \n",
            "r2: 4  --> r2: 3 \n",
            "l1: 5  --> l1: 6 \n",
            "l2: 3  --> l2: 3 \n",
            "s1: 4  --> s1: 5 \n"
          ]
        }
      ]
    },
    {
      "cell_type": "code",
      "metadata": {
        "id": "NkLBYWlWSym1"
      },
      "source": [
        "def disp(G):\n",
        "    val_map ={node: float(G.nodes[node][\"COLOR\"]) for node in G.nodes() }\n",
        "    values = [val_map.get(node, 0.25) for node in G.nodes()]\n",
        "    nx.draw(G,pos = nx.kamada_kawai_layout(B), arrows=True,cmap=plt.get_cmap(\"viridis\"), node_color = values, with_labels = True)"
      ],
      "execution_count": null,
      "outputs": []
    },
    {
      "cell_type": "code",
      "metadata": {
        "colab": {
          "base_uri": "https://localhost:8080/",
          "height": 319
        },
        "id": "ugS_C5ZNTnWP",
        "outputId": "545a157d-0a33-40fe-ce4a-2f593c25dce5"
      },
      "source": [
        "disp(B)"
      ],
      "execution_count": null,
      "outputs": [
        {
          "output_type": "display_data",
          "data": {
            "image/png": "[encoded data removed]",
            "text/plain": [
              "<Figure size 432x288 with 1 Axes>"
            ]
          },
          "metadata": {}
        }
      ]
    },
    {
      "cell_type": "code",
      "metadata": {
        "colab": {
          "base_uri": "https://localhost:8080/",
          "height": 248
        },
        "id": "nHU2iQ1_IBF-",
        "outputId": "6149a123-e587-4b51-de14-6ec506915b02"
      },
      "source": [
        "val_map ={node: float(B.nodes[node][\"COLOR\"]) for node in B.nodes() }    \n",
        "values = [val_map.get(node, 0.25) for node in B.nodes()]\n",
        "nx.draw_networkx(B, pos = bipartite_layout(B, [\"r1\",\"r2\", \"l1\", \"l2\", \"s1\"]), node_color = values, width = 1)"
      ],
      "execution_count": null,
      "outputs": [
        {
          "output_type": "display_data",
          "data": {
            "image/png": "[encoded data removed]",
            "text/plain": [
              "<Figure size 432x288 with 1 Axes>"
            ]
          },
          "metadata": {}
        }
      ]
    },
    {
      "cell_type": "code",
      "metadata": {
        "colab": {
          "base_uri": "https://localhost:8080/",
          "height": 248
        },
        "id": "to845P0fRSdc",
        "outputId": "2caf8fac-6bd4-4757-94a2-bc17a9884606"
      },
      "source": [
        "colab_plot_detail()"
      ],
      "execution_count": null,
      "outputs": [
        {
          "output_type": "display_data",
          "data": {
            "image/png": "[encoded data removed]",
            "text/plain": [
              "<Figure size 432x288 with 1 Axes>"
            ]
          },
          "metadata": {}
        }
      ]
    },
    {
      "cell_type": "code",
      "metadata": {
        "id": "bs4SPXQQeED-"
      },
      "source": [
        ""
      ],
      "execution_count": null,
      "outputs": []
    }
  ]
}